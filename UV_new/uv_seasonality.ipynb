{
 "cells": [
  {
   "cell_type": "code",
   "execution_count": 4,
   "id": "0278a84b",
   "metadata": {},
   "outputs": [
    {
     "name": "stdout",
     "output_type": "stream",
     "text": [
      "Collecting xgboost\n",
      "  Downloading xgboost-1.6.1-py3-none-win_amd64.whl (125.4 MB)\n",
      "Requirement already satisfied: scipy in c:\\users\\wjd72\\anaconda3\\envs\\tensorflow_env\\lib\\site-packages (from xgboost) (1.8.1)\n",
      "Requirement already satisfied: numpy in c:\\users\\wjd72\\anaconda3\\envs\\tensorflow_env\\lib\\site-packages (from xgboost) (1.22.4)\n",
      "Installing collected packages: xgboost\n",
      "Successfully installed xgboost-1.6.1\n",
      "Note: you may need to restart the kernel to use updated packages.\n"
     ]
    }
   ],
   "source": [
    "pip install xgboost"
   ]
  },
  {
   "cell_type": "code",
   "execution_count": 2,
   "id": "37aaed5a",
   "metadata": {},
   "outputs": [
    {
     "name": "stdout",
     "output_type": "stream",
     "text": [
      "Collecting lightgbm\n",
      "  Downloading lightgbm-3.3.2-py3-none-win_amd64.whl (1.0 MB)\n",
      "Requirement already satisfied: numpy in c:\\users\\wjd72\\anaconda3\\envs\\tensorflow_env\\lib\\site-packages (from lightgbm) (1.22.4)\n",
      "Requirement already satisfied: wheel in c:\\users\\wjd72\\anaconda3\\envs\\tensorflow_env\\lib\\site-packages (from lightgbm) (0.37.1)\n",
      "Requirement already satisfied: scikit-learn!=0.22.0 in c:\\users\\wjd72\\anaconda3\\envs\\tensorflow_env\\lib\\site-packages (from lightgbm) (1.1.1)\n",
      "Requirement already satisfied: scipy in c:\\users\\wjd72\\anaconda3\\envs\\tensorflow_env\\lib\\site-packages (from lightgbm) (1.8.1)\n",
      "Requirement already satisfied: threadpoolctl>=2.0.0 in c:\\users\\wjd72\\anaconda3\\envs\\tensorflow_env\\lib\\site-packages (from scikit-learn!=0.22.0->lightgbm) (3.1.0)\n",
      "Requirement already satisfied: joblib>=1.0.0 in c:\\users\\wjd72\\anaconda3\\envs\\tensorflow_env\\lib\\site-packages (from scikit-learn!=0.22.0->lightgbm) (1.1.0)\n",
      "Installing collected packages: lightgbm\n",
      "Successfully installed lightgbm-3.3.2\n",
      "Note: you may need to restart the kernel to use updated packages.\n"
     ]
    }
   ],
   "source": [
    "pip install lightgbm"
   ]
  },
  {
   "cell_type": "code",
   "execution_count": 1,
   "id": "3b3a1bf5-720f-42c4-9953-7cb8478601e3",
   "metadata": {},
   "outputs": [
    {
     "name": "stdout",
     "output_type": "stream",
     "text": [
      "WARNING:tensorflow:Please fix your imports. Module tensorflow.python.training.tracking.base has been moved to tensorflow.python.trackable.base. The old module will be deleted in version 2.11.\n",
      "WARNING:tensorflow:Please fix your imports. Module tensorflow.python.training.saving.functional_saver has been moved to tensorflow.python.checkpoint.functional_saver. The old module will be deleted in version 2.11.\n",
      "WARNING:tensorflow:Please fix your imports. Module tensorflow.python.training.saving.checkpoint_options has been moved to tensorflow.python.checkpoint.checkpoint_options. The old module will be deleted in version 2.11.\n"
     ]
    }
   ],
   "source": [
    "import pandas as pd\n",
    "import numpy as np\n",
    "from tqdm import tqdm\n",
    "import os\n",
    "import matplotlib.pyplot as plt\n",
    "import seaborn as sns\n",
    "\n",
    "import sklearn\n",
    "from sklearn.model_selection import train_test_split\n",
    "from sklearn.metrics import mean_squared_error\n",
    "from sklearn.model_selection import GridSearchCV\n",
    "from sklearn.model_selection import KFold\n",
    "\n",
    "from tensorflow import keras\n",
    "from keras.models import Sequential\n",
    "from keras import Input\n",
    "from keras.layers import Dense\n",
    "from tensorflow.keras.callbacks import ModelCheckpoint\n",
    "from keras.models import load_model\n",
    "from keras.callbacks import EarlyStopping\n",
    "\n",
    "from lightgbm import LGBMRegressor\n",
    "import random\n",
    "import xgboost as xgb"
   ]
  },
  {
   "cell_type": "code",
   "execution_count": 2,
   "id": "6b80ef97-4a3d-4faa-9da9-662ccf88b4b9",
   "metadata": {
    "tags": []
   },
   "outputs": [
    {
     "data": {
      "text/plain": [
       "'C:\\\\weather\\\\uv_new'"
      ]
     },
     "execution_count": 2,
     "metadata": {},
     "output_type": "execute_result"
    }
   ],
   "source": [
    "curr_dir = os.getcwd()\n",
    "curr_dir"
   ]
  },
  {
   "cell_type": "code",
   "execution_count": 8,
   "id": "84a62520",
   "metadata": {},
   "outputs": [
    {
     "data": {
      "text/html": [
       "<div>\n",
       "<style scoped>\n",
       "    .dataframe tbody tr th:only-of-type {\n",
       "        vertical-align: middle;\n",
       "    }\n",
       "\n",
       "    .dataframe tbody tr th {\n",
       "        vertical-align: top;\n",
       "    }\n",
       "\n",
       "    .dataframe thead th {\n",
       "        text-align: right;\n",
       "    }\n",
       "</style>\n",
       "<table border=\"1\" class=\"dataframe\">\n",
       "  <thead>\n",
       "    <tr style=\"text-align: right;\">\n",
       "      <th></th>\n",
       "      <th>yyyymmdd</th>\n",
       "      <th>hhnn</th>\n",
       "      <th>stn</th>\n",
       "      <th>lon</th>\n",
       "      <th>lat</th>\n",
       "      <th>uv</th>\n",
       "      <th>band1</th>\n",
       "      <th>band2</th>\n",
       "      <th>band3</th>\n",
       "      <th>band4</th>\n",
       "      <th>...</th>\n",
       "      <th>band12</th>\n",
       "      <th>band13</th>\n",
       "      <th>band14</th>\n",
       "      <th>band15</th>\n",
       "      <th>band16</th>\n",
       "      <th>solarza</th>\n",
       "      <th>sateza</th>\n",
       "      <th>esr</th>\n",
       "      <th>height</th>\n",
       "      <th>landtype</th>\n",
       "    </tr>\n",
       "  </thead>\n",
       "  <tbody>\n",
       "    <tr>\n",
       "      <th>0</th>\n",
       "      <td>20200101</td>\n",
       "      <td>0</td>\n",
       "      <td>13</td>\n",
       "      <td>126.16000</td>\n",
       "      <td>33.30000</td>\n",
       "      <td>0.0</td>\n",
       "      <td>0.00000</td>\n",
       "      <td>0.00000</td>\n",
       "      <td>0.00000</td>\n",
       "      <td>-0.00075</td>\n",
       "      <td>...</td>\n",
       "      <td>250.75924</td>\n",
       "      <td>269.97608</td>\n",
       "      <td>269.70811</td>\n",
       "      <td>268.61702</td>\n",
       "      <td>259.10334</td>\n",
       "      <td>165.17963</td>\n",
       "      <td>38.96359</td>\n",
       "      <td>-9.50910</td>\n",
       "      <td>71.00</td>\n",
       "      <td>0</td>\n",
       "    </tr>\n",
       "    <tr>\n",
       "      <th>1</th>\n",
       "      <td>20200101</td>\n",
       "      <td>0</td>\n",
       "      <td>105</td>\n",
       "      <td>128.89098</td>\n",
       "      <td>37.75147</td>\n",
       "      <td>0.0</td>\n",
       "      <td>-0.00057</td>\n",
       "      <td>0.00057</td>\n",
       "      <td>0.00030</td>\n",
       "      <td>-0.00030</td>\n",
       "      <td>...</td>\n",
       "      <td>246.67115</td>\n",
       "      <td>268.22810</td>\n",
       "      <td>268.41686</td>\n",
       "      <td>268.01723</td>\n",
       "      <td>256.99670</td>\n",
       "      <td>163.20549</td>\n",
       "      <td>43.95463</td>\n",
       "      <td>-9.40930</td>\n",
       "      <td>26.04</td>\n",
       "      <td>3</td>\n",
       "    </tr>\n",
       "    <tr>\n",
       "      <th>2</th>\n",
       "      <td>20200101</td>\n",
       "      <td>0</td>\n",
       "      <td>108</td>\n",
       "      <td>126.96500</td>\n",
       "      <td>37.57100</td>\n",
       "      <td>0.0</td>\n",
       "      <td>0.00000</td>\n",
       "      <td>0.00000</td>\n",
       "      <td>-0.00089</td>\n",
       "      <td>-0.00075</td>\n",
       "      <td>...</td>\n",
       "      <td>241.24994</td>\n",
       "      <td>258.33982</td>\n",
       "      <td>258.18692</td>\n",
       "      <td>257.58363</td>\n",
       "      <td>250.50021</td>\n",
       "      <td>162.48279</td>\n",
       "      <td>43.77999</td>\n",
       "      <td>-9.37761</td>\n",
       "      <td>85.50</td>\n",
       "      <td>3</td>\n",
       "    </tr>\n",
       "    <tr>\n",
       "      <th>3</th>\n",
       "      <td>20200101</td>\n",
       "      <td>0</td>\n",
       "      <td>112</td>\n",
       "      <td>126.62490</td>\n",
       "      <td>37.47772</td>\n",
       "      <td>0.0</td>\n",
       "      <td>-0.00057</td>\n",
       "      <td>-0.00057</td>\n",
       "      <td>-0.00060</td>\n",
       "      <td>0.00015</td>\n",
       "      <td>...</td>\n",
       "      <td>241.55488</td>\n",
       "      <td>258.54927</td>\n",
       "      <td>258.64012</td>\n",
       "      <td>258.03883</td>\n",
       "      <td>251.00820</td>\n",
       "      <td>162.39995</td>\n",
       "      <td>43.67046</td>\n",
       "      <td>-9.37422</td>\n",
       "      <td>68.99</td>\n",
       "      <td>3</td>\n",
       "    </tr>\n",
       "    <tr>\n",
       "      <th>4</th>\n",
       "      <td>20200101</td>\n",
       "      <td>0</td>\n",
       "      <td>115</td>\n",
       "      <td>130.89864</td>\n",
       "      <td>37.48129</td>\n",
       "      <td>0.0</td>\n",
       "      <td>0.00000</td>\n",
       "      <td>-0.00057</td>\n",
       "      <td>-0.00030</td>\n",
       "      <td>0.00075</td>\n",
       "      <td>...</td>\n",
       "      <td>244.56708</td>\n",
       "      <td>264.88004</td>\n",
       "      <td>263.95472</td>\n",
       "      <td>262.33534</td>\n",
       "      <td>253.25397</td>\n",
       "      <td>164.19725</td>\n",
       "      <td>43.74521</td>\n",
       "      <td>-9.45200</td>\n",
       "      <td>222.80</td>\n",
       "      <td>4</td>\n",
       "    </tr>\n",
       "    <tr>\n",
       "      <th>...</th>\n",
       "      <td>...</td>\n",
       "      <td>...</td>\n",
       "      <td>...</td>\n",
       "      <td>...</td>\n",
       "      <td>...</td>\n",
       "      <td>...</td>\n",
       "      <td>...</td>\n",
       "      <td>...</td>\n",
       "      <td>...</td>\n",
       "      <td>...</td>\n",
       "      <td>...</td>\n",
       "      <td>...</td>\n",
       "      <td>...</td>\n",
       "      <td>...</td>\n",
       "      <td>...</td>\n",
       "      <td>...</td>\n",
       "      <td>...</td>\n",
       "      <td>...</td>\n",
       "      <td>...</td>\n",
       "      <td>...</td>\n",
       "      <td>...</td>\n",
       "    </tr>\n",
       "    <tr>\n",
       "      <th>1533607</th>\n",
       "      <td>20211231</td>\n",
       "      <td>2350</td>\n",
       "      <td>146</td>\n",
       "      <td>127.11900</td>\n",
       "      <td>35.84080</td>\n",
       "      <td>0.1</td>\n",
       "      <td>-0.00057</td>\n",
       "      <td>0.00000</td>\n",
       "      <td>-0.00060</td>\n",
       "      <td>0.00000</td>\n",
       "      <td>...</td>\n",
       "      <td>244.71129</td>\n",
       "      <td>264.82744</td>\n",
       "      <td>264.95943</td>\n",
       "      <td>264.36433</td>\n",
       "      <td>254.82929</td>\n",
       "      <td>162.52921</td>\n",
       "      <td>41.81018</td>\n",
       "      <td>-8.87355</td>\n",
       "      <td>62.90</td>\n",
       "      <td>3</td>\n",
       "    </tr>\n",
       "    <tr>\n",
       "      <th>1533608</th>\n",
       "      <td>20211231</td>\n",
       "      <td>2350</td>\n",
       "      <td>152</td>\n",
       "      <td>129.33472</td>\n",
       "      <td>35.58250</td>\n",
       "      <td>0.0</td>\n",
       "      <td>0.00000</td>\n",
       "      <td>0.00000</td>\n",
       "      <td>-0.00179</td>\n",
       "      <td>-0.00015</td>\n",
       "      <td>...</td>\n",
       "      <td>241.75728</td>\n",
       "      <td>259.19303</td>\n",
       "      <td>257.86443</td>\n",
       "      <td>257.39333</td>\n",
       "      <td>249.08495</td>\n",
       "      <td>163.96606</td>\n",
       "      <td>41.52495</td>\n",
       "      <td>-8.99640</td>\n",
       "      <td>82.00</td>\n",
       "      <td>2</td>\n",
       "    </tr>\n",
       "    <tr>\n",
       "      <th>1533609</th>\n",
       "      <td>20211231</td>\n",
       "      <td>2350</td>\n",
       "      <td>156</td>\n",
       "      <td>126.89158</td>\n",
       "      <td>35.17294</td>\n",
       "      <td>0.0</td>\n",
       "      <td>0.00000</td>\n",
       "      <td>0.00000</td>\n",
       "      <td>0.00000</td>\n",
       "      <td>0.00105</td>\n",
       "      <td>...</td>\n",
       "      <td>242.90744</td>\n",
       "      <td>260.33453</td>\n",
       "      <td>260.00405</td>\n",
       "      <td>259.18646</td>\n",
       "      <td>250.92709</td>\n",
       "      <td>162.84572</td>\n",
       "      <td>41.04849</td>\n",
       "      <td>-8.87987</td>\n",
       "      <td>72.38</td>\n",
       "      <td>3</td>\n",
       "    </tr>\n",
       "    <tr>\n",
       "      <th>1533610</th>\n",
       "      <td>20211231</td>\n",
       "      <td>2350</td>\n",
       "      <td>159</td>\n",
       "      <td>129.03203</td>\n",
       "      <td>35.10468</td>\n",
       "      <td>0.0</td>\n",
       "      <td>-0.00057</td>\n",
       "      <td>-0.00057</td>\n",
       "      <td>0.00089</td>\n",
       "      <td>-0.00015</td>\n",
       "      <td>...</td>\n",
       "      <td>242.68420</td>\n",
       "      <td>259.36253</td>\n",
       "      <td>258.24370</td>\n",
       "      <td>256.93511</td>\n",
       "      <td>247.71243</td>\n",
       "      <td>164.15158</td>\n",
       "      <td>40.96396</td>\n",
       "      <td>-8.99480</td>\n",
       "      <td>69.56</td>\n",
       "      <td>3</td>\n",
       "    </tr>\n",
       "    <tr>\n",
       "      <th>1533611</th>\n",
       "      <td>20211231</td>\n",
       "      <td>2350</td>\n",
       "      <td>165</td>\n",
       "      <td>126.38121</td>\n",
       "      <td>34.81689</td>\n",
       "      <td>0.0</td>\n",
       "      <td>0.00000</td>\n",
       "      <td>-0.00057</td>\n",
       "      <td>-0.00089</td>\n",
       "      <td>-0.00030</td>\n",
       "      <td>...</td>\n",
       "      <td>245.56927</td>\n",
       "      <td>264.89757</td>\n",
       "      <td>265.30934</td>\n",
       "      <td>263.65062</td>\n",
       "      <td>254.37876</td>\n",
       "      <td>162.76137</td>\n",
       "      <td>40.67788</td>\n",
       "      <td>-8.86160</td>\n",
       "      <td>38.00</td>\n",
       "      <td>3</td>\n",
       "    </tr>\n",
       "  </tbody>\n",
       "</table>\n",
       "<p>1533612 rows × 27 columns</p>\n",
       "</div>"
      ],
      "text/plain": [
       "         yyyymmdd  hhnn  stn        lon       lat   uv    band1    band2  \\\n",
       "0        20200101     0   13  126.16000  33.30000  0.0  0.00000  0.00000   \n",
       "1        20200101     0  105  128.89098  37.75147  0.0 -0.00057  0.00057   \n",
       "2        20200101     0  108  126.96500  37.57100  0.0  0.00000  0.00000   \n",
       "3        20200101     0  112  126.62490  37.47772  0.0 -0.00057 -0.00057   \n",
       "4        20200101     0  115  130.89864  37.48129  0.0  0.00000 -0.00057   \n",
       "...           ...   ...  ...        ...       ...  ...      ...      ...   \n",
       "1533607  20211231  2350  146  127.11900  35.84080  0.1 -0.00057  0.00000   \n",
       "1533608  20211231  2350  152  129.33472  35.58250  0.0  0.00000  0.00000   \n",
       "1533609  20211231  2350  156  126.89158  35.17294  0.0  0.00000  0.00000   \n",
       "1533610  20211231  2350  159  129.03203  35.10468  0.0 -0.00057 -0.00057   \n",
       "1533611  20211231  2350  165  126.38121  34.81689  0.0  0.00000 -0.00057   \n",
       "\n",
       "           band3    band4  ...     band12     band13     band14     band15  \\\n",
       "0        0.00000 -0.00075  ...  250.75924  269.97608  269.70811  268.61702   \n",
       "1        0.00030 -0.00030  ...  246.67115  268.22810  268.41686  268.01723   \n",
       "2       -0.00089 -0.00075  ...  241.24994  258.33982  258.18692  257.58363   \n",
       "3       -0.00060  0.00015  ...  241.55488  258.54927  258.64012  258.03883   \n",
       "4       -0.00030  0.00075  ...  244.56708  264.88004  263.95472  262.33534   \n",
       "...          ...      ...  ...        ...        ...        ...        ...   \n",
       "1533607 -0.00060  0.00000  ...  244.71129  264.82744  264.95943  264.36433   \n",
       "1533608 -0.00179 -0.00015  ...  241.75728  259.19303  257.86443  257.39333   \n",
       "1533609  0.00000  0.00105  ...  242.90744  260.33453  260.00405  259.18646   \n",
       "1533610  0.00089 -0.00015  ...  242.68420  259.36253  258.24370  256.93511   \n",
       "1533611 -0.00089 -0.00030  ...  245.56927  264.89757  265.30934  263.65062   \n",
       "\n",
       "            band16    solarza    sateza      esr  height  landtype  \n",
       "0        259.10334  165.17963  38.96359 -9.50910   71.00         0  \n",
       "1        256.99670  163.20549  43.95463 -9.40930   26.04         3  \n",
       "2        250.50021  162.48279  43.77999 -9.37761   85.50         3  \n",
       "3        251.00820  162.39995  43.67046 -9.37422   68.99         3  \n",
       "4        253.25397  164.19725  43.74521 -9.45200  222.80         4  \n",
       "...            ...        ...       ...      ...     ...       ...  \n",
       "1533607  254.82929  162.52921  41.81018 -8.87355   62.90         3  \n",
       "1533608  249.08495  163.96606  41.52495 -8.99640   82.00         2  \n",
       "1533609  250.92709  162.84572  41.04849 -8.87987   72.38         3  \n",
       "1533610  247.71243  164.15158  40.96396 -8.99480   69.56         3  \n",
       "1533611  254.37876  162.76137  40.67788 -8.86160   38.00         3  \n",
       "\n",
       "[1533612 rows x 27 columns]"
      ]
     },
     "execution_count": 8,
     "metadata": {},
     "output_type": "execute_result"
    }
   ],
   "source": [
    "forders_tr = os.listdir(curr_dir+\"\\\\data\\\\\"+\"\\\\uv_train_val\")\n",
    "forders_tr\n",
    "\n",
    "df= pd.read_csv(os.path.join(curr_dir+\"\\\\data\\\\\"+\"\\\\uv_train_val\\\\\")+forders_tr[0])\n",
    "df"
   ]
  },
  {
   "cell_type": "code",
   "execution_count": 81,
   "id": "5b55e76c",
   "metadata": {},
   "outputs": [
    {
     "data": {
      "image/png": "[encoded data removed]",
      "text/plain": [
       "<Figure size 432x288 with 1 Axes>"
      ]
     },
     "metadata": {
      "needs_background": "light"
     },
     "output_type": "display_data"
    }
   ],
   "source": [
    "d = df[df['yyyymmdd']==20200101]\n",
    "d = d.reset_index()\n",
    "d = d.drop('index', axis=1)\n",
    "\n",
    "d['uv'].plot(color='lightcoral')\n",
    "plt.xticks([0,500,1000,1500,2000])\n",
    "plt.ylim([0,14])\n",
    "plt.title('20200101')\n",
    "plt.savefig('20200101_uv.png')"
   ]
  },
  {
   "cell_type": "code",
   "execution_count": 82,
   "id": "4d8de330",
   "metadata": {},
   "outputs": [
    {
     "data": {
      "image/png": "[encoded data removed]",
      "text/plain": [
       "<Figure size 432x288 with 1 Axes>"
      ]
     },
     "metadata": {
      "needs_background": "light"
     },
     "output_type": "display_data"
    }
   ],
   "source": [
    "d = df[df['yyyymmdd']==20200510]\n",
    "d = d.reset_index()\n",
    "d = d.drop('index', axis=1)\n",
    "\n",
    "\n",
    "d['uv'].plot(color='lightcoral')\n",
    "plt.ylim([0,14])\n",
    "plt.title('20200510')\n",
    "plt.savefig('20200510_uv.png')"
   ]
  },
  {
   "cell_type": "code",
   "execution_count": 83,
   "id": "ee51a43c",
   "metadata": {},
   "outputs": [
    {
     "data": {
      "image/png": "[encoded data removed]",
      "text/plain": [
       "<Figure size 432x288 with 1 Axes>"
      ]
     },
     "metadata": {
      "needs_background": "light"
     },
     "output_type": "display_data"
    }
   ],
   "source": [
    "d = df[df['yyyymmdd']==20200623]\n",
    "d = d.reset_index()\n",
    "d = d.drop('index', axis=1)\n",
    "\n",
    "\n",
    "d['uv'].plot(color='lightcoral')\n",
    "plt.ylim([0,14])\n",
    "plt.title('20200623')\n",
    "# plt.savefig('20200623_uv.png')"
   ]
  },
  {
   "cell_type": "code",
   "execution_count": 98,
   "id": "c62a2e9c",
   "metadata": {},
   "outputs": [
    {
     "data": {
      "text/plain": [
       "Text(0.5, 1.0, '20200630')"
      ]
     },
     "execution_count": 98,
     "metadata": {},
     "output_type": "execute_result"
    },
    {
     "data": {
      "image/png": "[encoded data removed]",
      "text/plain": [
       "<Figure size 432x288 with 1 Axes>"
      ]
     },
     "metadata": {
      "needs_background": "light"
     },
     "output_type": "display_data"
    }
   ],
   "source": [
    "d = df[df['yyyymmdd']==20200630]\n",
    "d = d.reset_index()\n",
    "d = d.drop('index', axis=1)\n",
    "\n",
    "\n",
    "d['uv'].plot(color='lightcoral')\n",
    "plt.ylim([0,14])\n",
    "plt.title('20200630')\n",
    "# plt.savefig('20200630_uv.png')"
   ]
  },
  {
   "cell_type": "code",
   "execution_count": 94,
   "id": "8a3c2270",
   "metadata": {},
   "outputs": [
    {
     "data": {
      "image/png": "[encoded data removed]",
      "text/plain": [
       "<Figure size 432x288 with 1 Axes>"
      ]
     },
     "metadata": {
      "needs_background": "light"
     },
     "output_type": "display_data"
    }
   ],
   "source": [
    "d = df[df['yyyymmdd']==20210715]\n",
    "d = d.reset_index()\n",
    "d = d.drop('index', axis=1)\n",
    "\n",
    "\n",
    "d['uv'].plot(color='lightcoral')\n",
    "plt.ylim([0,14])\n",
    "plt.title('20210715')\n",
    "plt.savefig('20210715_uv.png')"
   ]
  },
  {
   "cell_type": "code",
   "execution_count": 85,
   "id": "cd30bcc1",
   "metadata": {},
   "outputs": [
    {
     "data": {
      "image/png": "[encoded data removed]",
      "text/plain": [
       "<Figure size 432x288 with 1 Axes>"
      ]
     },
     "metadata": {
      "needs_background": "light"
     },
     "output_type": "display_data"
    }
   ],
   "source": [
    "d = df[df['yyyymmdd']==20200809]\n",
    "d = d.reset_index()\n",
    "d = d.drop('index', axis=1)\n",
    "\n",
    "\n",
    "d['uv'].plot(color='lightcoral')\n",
    "plt.ylim([0,14])\n",
    "plt.title('20200809')\n",
    "plt.savefig('20200809_uv.png')"
   ]
  },
  {
   "cell_type": "code",
   "execution_count": 110,
   "id": "93e805e3",
   "metadata": {},
   "outputs": [
    {
     "data": {
      "image/png": "[encoded data removed]",
      "text/plain": [
       "<Figure size 432x288 with 1 Axes>"
      ]
     },
     "metadata": {
      "needs_background": "light"
     },
     "output_type": "display_data"
    }
   ],
   "source": [
    "d = df[df['yyyymmdd']==20210902]\n",
    "d = d.reset_index()\n",
    "d = d.drop('index', axis=1)\n",
    "\n",
    "\n",
    "d['uv'].plot(color='lightcoral')\n",
    "plt.ylim([0,14])\n",
    "plt.title('20210902')\n",
    "plt.savefig('20210902_uv.png')"
   ]
  },
  {
   "cell_type": "code",
   "execution_count": 131,
   "id": "64661004",
   "metadata": {},
   "outputs": [
    {
     "data": {
      "image/png": "[encoded data removed]",
      "text/plain": [
       "<Figure size 432x288 with 1 Axes>"
      ]
     },
     "metadata": {
      "needs_background": "light"
     },
     "output_type": "display_data"
    }
   ],
   "source": [
    "d = df[df['yyyymmdd']==20201008]\n",
    "d = d.reset_index()\n",
    "d = d.drop('index', axis=1)\n",
    "\n",
    "\n",
    "d['uv'].plot(color='lightcoral')\n",
    "plt.ylim([0,14])\n",
    "plt.title('20201008')\n",
    "plt.savefig('20201008_uv.png')"
   ]
  },
  {
   "cell_type": "code",
   "execution_count": 149,
   "id": "8a6c1c43",
   "metadata": {},
   "outputs": [
    {
     "data": {
      "image/png": "[encoded data removed]",
      "text/plain": [
       "<Figure size 432x288 with 1 Axes>"
      ]
     },
     "metadata": {
      "needs_background": "light"
     },
     "output_type": "display_data"
    }
   ],
   "source": [
    "d = df[df['yyyymmdd']==20201130]\n",
    "d = d.reset_index()\n",
    "d = d.drop('index', axis=1)\n",
    "\n",
    "\n",
    "d['uv'].plot(color='lightcoral')\n",
    "plt.ylim([0,14])\n",
    "plt.title('20201130')\n",
    "plt.savefig('20201130_uv.png')"
   ]
  },
  {
   "cell_type": "code",
   "execution_count": 152,
   "id": "16c8a496",
   "metadata": {},
   "outputs": [
    {
     "data": {
      "image/png": "[encoded data removed]",
      "text/plain": [
       "<Figure size 432x288 with 1 Axes>"
      ]
     },
     "metadata": {
      "needs_background": "light"
     },
     "output_type": "display_data"
    }
   ],
   "source": [
    "d = df[df['yyyymmdd']==20200225]\n",
    "d = d.reset_index()\n",
    "d = d.drop('index', axis=1)\n",
    "\n",
    "\n",
    "d['uv'].plot(color='lightcoral')\n",
    "plt.ylim([0,14])\n",
    "plt.title('20200225')\n",
    "plt.savefig('20200225_uv.png')"
   ]
  },
  {
   "cell_type": "code",
   "execution_count": 166,
   "id": "bce4f8c9",
   "metadata": {},
   "outputs": [
    {
     "data": {
      "image/png": "[encoded data removed]",
      "text/plain": [
       "<Figure size 432x288 with 1 Axes>"
      ]
     },
     "metadata": {
      "needs_background": "light"
     },
     "output_type": "display_data"
    }
   ],
   "source": [
    "d = df[df['yyyymmdd']==20200301]\n",
    "d = d.reset_index()\n",
    "d = d.drop('index', axis=1)\n",
    "\n",
    "\n",
    "d['uv'].plot(color='lightcoral')\n",
    "plt.ylim([0,14])\n",
    "plt.title('20200301')\n",
    "plt.savefig('20200301_uv.png')"
   ]
  },
  {
   "cell_type": "code",
   "execution_count": 177,
   "id": "cf5e4b23",
   "metadata": {},
   "outputs": [
    {
     "data": {
      "text/plain": [
       "(0.0, 14.0)"
      ]
     },
     "execution_count": 177,
     "metadata": {},
     "output_type": "execute_result"
    },
    {
     "data": {
      "image/png": "[encoded data removed]",
      "text/plain": [
       "<Figure size 432x288 with 1 Axes>"
      ]
     },
     "metadata": {
      "needs_background": "light"
     },
     "output_type": "display_data"
    }
   ],
   "source": [
    "d = df[df['yyyymmdd']==20210420]\n",
    "d = d.reset_index()\n",
    "d = d.drop('index', axis=1)\n",
    "\n",
    "\n",
    "d['uv'].plot(color='lightcoral')\n",
    "plt.ylim([0,14])\n",
    "# plt.title('20201008')\n",
    "# plt.savefig('20201008_uv.png')"
   ]
  },
  {
   "cell_type": "code",
   "execution_count": null,
   "id": "699b8cfc",
   "metadata": {},
   "outputs": [],
   "source": [
    "## 4월도 꽤 영향보이는군.."
   ]
  },
  {
   "cell_type": "code",
   "execution_count": 88,
   "id": "8fc1291d",
   "metadata": {},
   "outputs": [
    {
     "data": {
      "image/png": "[encoded data removed]",
      "text/plain": [
       "<Figure size 432x288 with 1 Axes>"
      ]
     },
     "metadata": {
      "needs_background": "light"
     },
     "output_type": "display_data"
    }
   ],
   "source": [
    "d = df[df['yyyymmdd']==20211207]\n",
    "d = d.reset_index()\n",
    "d = d.drop('index', axis=1)\n",
    "\n",
    "\n",
    "d['uv'].plot(color='lightcoral')\n",
    "plt.ylim([0,14])\n",
    "plt.title('20211207')\n",
    "plt.savefig('20211207_uv.png')"
   ]
  },
  {
   "cell_type": "code",
   "execution_count": null,
   "id": "7b40ad48",
   "metadata": {},
   "outputs": [],
   "source": []
  },
  {
   "cell_type": "code",
   "execution_count": null,
   "id": "f8bc379a",
   "metadata": {},
   "outputs": [],
   "source": []
  },
  {
   "cell_type": "code",
   "execution_count": null,
   "id": "fb6329ed",
   "metadata": {},
   "outputs": [],
   "source": []
  }
 ],
 "metadata": {
  "kernelspec": {
   "display_name": "tensorflow_env",
   "language": "python",
   "name": "tensorflow_env"
  },
  "language_info": {
   "codemirror_mode": {
    "name": "ipython",
    "version": 3
   },
   "file_extension": ".py",
   "mimetype": "text/x-python",
   "name": "python",
   "nbconvert_exporter": "python",
   "pygments_lexer": "ipython3",
   "version": "3.8.13"
  }
 },
 "nbformat": 4,
 "nbformat_minor": 5
}
